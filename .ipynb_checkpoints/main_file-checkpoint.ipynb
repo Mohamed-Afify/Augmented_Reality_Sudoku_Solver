{
 "cells": [
  {
   "cell_type": "code",
   "execution_count": 1,
   "metadata": {},
   "outputs": [],
   "source": [
    "import capture\n",
    "import digitize\n",
    "import solve\n",
    "import numpy as np\n",
    "import cv2\n",
    "from tensorflow import keras"
   ]
  },
  {
   "cell_type": "code",
   "execution_count": 2,
   "metadata": {},
   "outputs": [],
   "source": [
    "def augment_to_image(num_img, points, image):\n",
    "    src = capture.dst\n",
    "    matrix = cv2.getPerspectiveTransform(src, points)\n",
    "    aug_nums = cv2.warpPerspective(num_img, matrix, (640, 360))\n",
    "    aug_img = cv2.addWeighted(image, 1, aug_nums, 1, 1)\n",
    "    return aug_img\n",
    "\n",
    "\n",
    "def get_sudo_ku(grid_sol, sudoku, zero_indices):\n",
    "    delta_w, delta_h = int(sudoku.shape[0] / 9), int(sudoku.shape[1] / 9)\n",
    "    sudoku_sol = np.zeros((sudoku.shape[0], sudoku.shape[1], 3), np.uint8)\n",
    "    for h in range(9):\n",
    "        for w in range(9):\n",
    "            if [h, w] in zero_indices:\n",
    "                if int(grid_sol[h][w]) != 0:\n",
    "                    cv2.putText(sudoku_sol, str(grid_sol[h][w]),\n",
    "                                (w*delta_w + to_center-2, h*delta_h + to_center+10),\n",
    "                                font, font_size, (0, 255, 0))\n",
    "    return sudoku_sol"
   ]
  },
  {
   "cell_type": "code",
   "execution_count": 6,
   "metadata": {},
   "outputs": [],
   "source": [
    "params = {'sudokuBlur':7,\n",
    "          'sudokuThresh':11,\n",
    "          'solveLevel':30,\n",
    "          'fontSize':0.9\n",
    "}\n",
    "\n",
    "my_model = keras.models.load_model(\"Models/digitizer_noise_99acc.h5\")\n",
    "font = cv2.FONT_HERSHEY_SIMPLEX\n",
    "font_size = params['fontSize']\n",
    "to_center = 18\n",
    "augmented = np.zeros((450, 450))\n",
    "cap = cv2.VideoCapture(0)\n",
    "i = 0\n",
    "\n",
    "while True:\n",
    "    matrix, sudoku, pts, img, detected = capture.capture_sudo(cap)  # whole image >> squared unsolved sudoku image\n",
    "\n",
    "    ui_string, ui_color = \"Put the sudoku in the center\", (0, 0, 255)\n",
    "    sudoku_thresh = sudoku\n",
    "    if detected:\n",
    "        sudoku_blur = cv2.GaussianBlur(sudoku, (params['sudokuBlur'], params['sudokuBlur']), 0)\n",
    "        sudoku_thresh = cv2.adaptiveThreshold(sudoku_blur, 255, cv2.ADAPTIVE_THRESH_MEAN_C, cv2.THRESH_BINARY, params['sudokuThresh'], 4)\n",
    "\n",
    "        grid = digitize.digitize_captured(sudoku_thresh / 255, my_model)\n",
    "        grid_solved, zero_indices = solve.solve_grid(grid, params['solveLevel'])  # a grid of digits >> a solved sudoku grid\n",
    "        sudoku_sol = get_sudo_ku(grid_solved, sudoku, zero_indices)  # a solved sudoku grid >> squared solved sudoku image\n",
    "        augmented = augment_to_image(sudoku_sol, pts, img)  # squared solved sudoku image >> augmented image\n",
    "        ui_string, ui_color = \"Sudoku Detected!\", (0, 255, 0)\n",
    "\n",
    "    cv2.putText(img, ui_string, (10, 350), font, 0.6, ui_color)\n",
    "    cv2.line(img, (320, 0), (320, 360), ui_color, 1)\n",
    "    cv2.line(img, (0, 180), (640, 180), ui_color, 1)\n",
    "\n",
    "    cv2.imshow('Normal', img)\n",
    "    cv2.imshow('Sudoku', sudoku_thresh)\n",
    "    cv2.imshow('Result', augmented)\n",
    "\n",
    "    if cv2.waitKey(1) & 0xFF == ord('q'):\n",
    "        break\n",
    "\n",
    "cap.release()\n",
    "cv2.destroyAllWindows()"
   ]
  }
 ],
 "metadata": {
  "kernelspec": {
   "display_name": "Python 3",
   "language": "python",
   "name": "python3"
  },
  "language_info": {
   "codemirror_mode": {
    "name": "ipython",
    "version": 3
   },
   "file_extension": ".py",
   "mimetype": "text/x-python",
   "name": "python",
   "nbconvert_exporter": "python",
   "pygments_lexer": "ipython3",
   "version": "3.7.6"
  }
 },
 "nbformat": 4,
 "nbformat_minor": 4
}
